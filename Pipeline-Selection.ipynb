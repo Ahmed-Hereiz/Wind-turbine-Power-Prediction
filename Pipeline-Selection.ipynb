{
 "cells": [
  {
   "cell_type": "markdown",
   "id": "60689d4f",
   "metadata": {},
   "source": [
    "<h1><center><center><h1><h1><center><span style=\"color:#ba2ec7\">Pipeline Selection</span><center><h1>"
   ]
  },
  {
   "cell_type": "markdown",
   "id": "e61ae4b9",
   "metadata": {},
   "source": [
    "## Previously known that our model generally performs well with ensample learning algorithms"
   ]
  },
  {
   "cell_type": "markdown",
   "id": "075d6946",
   "metadata": {},
   "source": [
    "### So I built many model pipelines that will do the cleaning and feature engineering steps on the data...<br><br> And I see which Pipeline will perform better with good time and performance <br>(every pipeline has it's own cleaning and feature engineering steps)"
   ]
  },
  {
   "cell_type": "markdown",
   "id": "31b2758c",
   "metadata": {},
   "source": [
    " ## I Have 2 Pipelines Where :\n",
    " \n",
    "<u><h3><Font color='#ba2ec7'>Pipeline 1 :</Font></h3></u>\n",
    "------------------------------------------------------------\n",
    "\n",
    "- Column Selector\n",
    "- Dataframe Imputer\n",
    "- Date time transform\n",
    "- Drop columns\n",
    "- winsorization\n",
    "- scale\n",
    "\n",
    "\n",
    "<u><h3><Font color='#ba2ec7'>Pipeline 2 :</Font></h3></u>\n",
    "------------------------------------------------------------\n",
    "\n",
    "- Column Selector\n",
    "- Dataframe Imputer\n",
    "- Date time transform\n",
    "- Drop columns\n",
    "- scale\n"
   ]
  },
  {
   "cell_type": "markdown",
   "id": "1e3a85e8",
   "metadata": {},
   "source": [
    "<h1><Font color='#ba2ec7'>These Pipelines are written in a python script named as Pipelines.py</Font></h1>"
   ]
  },
  {
   "cell_type": "markdown",
   "id": "499c99ba",
   "metadata": {},
   "source": [
    "## I will import this file here :"
   ]
  },
  {
   "cell_type": "code",
   "execution_count": 1,
   "id": "f8f4bd32",
   "metadata": {},
   "outputs": [
    {
     "data": {
      "text/plain": [
       "<module 'Pipelines' from 'C:\\\\Users\\\\ahmed_nlhvcl\\\\my_tasks\\\\Wind Turbine\\\\Pipelines.py'>"
      ]
     },
     "execution_count": 1,
     "metadata": {},
     "output_type": "execute_result"
    }
   ],
   "source": [
    "import Pipelines\n",
    "Pipelines"
   ]
  },
  {
   "cell_type": "markdown",
   "id": "6381ccfd",
   "metadata": {},
   "source": [
    "## Import Mytest file (for assertions)"
   ]
  },
  {
   "cell_type": "code",
   "execution_count": 2,
   "id": "b986f001",
   "metadata": {},
   "outputs": [
    {
     "data": {
      "text/plain": [
       "<module 'Test' from 'C:\\\\Users\\\\ahmed_nlhvcl\\\\my_tasks\\\\Wind Turbine\\\\Test.py'>"
      ]
     },
     "execution_count": 2,
     "metadata": {},
     "output_type": "execute_result"
    }
   ],
   "source": [
    "import Test\n",
    "Test"
   ]
  },
  {
   "cell_type": "markdown",
   "id": "daa88a0d",
   "metadata": {},
   "source": [
    "# My Librabies :"
   ]
  },
  {
   "cell_type": "code",
   "execution_count": 3,
   "id": "c1905da3",
   "metadata": {},
   "outputs": [],
   "source": [
    "import pandas as pd\n",
    "import numpy as np\n",
    "from sklearn.ensemble import (ExtraTreesRegressor, RandomForestRegressor\n",
    "                              , HistGradientBoostingRegressor, BaggingRegressor, GradientBoostingRegressor)\n",
    "from sklearn.neighbors import KNeighborsRegressor\n",
    "from xgboost import XGBRegressor\n",
    "from lightgbm import LGBMRegressor\n",
    "from sklearn.model_selection import cross_val_score, cross_validate"
   ]
  },
  {
   "cell_type": "markdown",
   "id": "7ce0c505",
   "metadata": {},
   "source": [
    "# Remove Warning :"
   ]
  },
  {
   "cell_type": "code",
   "execution_count": 4,
   "id": "784b1775",
   "metadata": {},
   "outputs": [],
   "source": [
    "import warnings\n",
    "warnings.simplefilter(\"ignore\")"
   ]
  },
  {
   "cell_type": "markdown",
   "id": "7b863659",
   "metadata": {},
   "source": [
    "# Datasets :"
   ]
  },
  {
   "cell_type": "code",
   "execution_count": 5,
   "id": "e4f48f2e",
   "metadata": {},
   "outputs": [],
   "source": [
    "X_train = pd.read_csv('Dataset/xtrain_data.csv')\n",
    "y_train = pd.read_csv('Dataset/ytrain_data.csv')\n",
    "X_test = pd.read_csv('Dataset/xtest_data.csv')\n",
    "y_test = pd.read_csv('Dataset/ytest_data.csv')\n",
    "\n",
    "ds = Test.DataChecker(X_train, y_train, X_test, y_test)\n",
    "ds.check_shapes()\n",
    "ds.check_negative_values_y()"
   ]
  },
  {
   "cell_type": "markdown",
   "id": "2f0f4154",
   "metadata": {},
   "source": [
    "### Ok these datasets is unclean and they are like the data that will come from the source... I will use the pipelines on them then I will train some models on them to see the best cleaning pipeline and use it"
   ]
  },
  {
   "cell_type": "markdown",
   "id": "5f29aff6",
   "metadata": {},
   "source": [
    "### These models will help me to choose the best pipeline"
   ]
  },
  {
   "cell_type": "markdown",
   "id": "3f64b16d",
   "metadata": {},
   "source": [
    "### Since that I am going to reuse this on 4 pipelines so I will make function for that\n",
    "### I made a function that will ask for the models you want to test and names to dispaly for them and x,y data and it will do the cross validation for you...."
   ]
  },
  {
   "cell_type": "markdown",
   "id": "cd94e3b6",
   "metadata": {},
   "source": [
    "### function is named as `compute_pipeline()` and is found in `Pipelines.py`, let's use it :"
   ]
  },
  {
   "cell_type": "code",
   "execution_count": 6,
   "id": "1b561337",
   "metadata": {},
   "outputs": [],
   "source": [
    "models = []\n",
    "\n",
    "models.append(RandomForestRegressor())\n",
    "models.append(LGBMRegressor())\n",
    "models.append(HistGradientBoostingRegressor())\n",
    "models.append(ExtraTreesRegressor())\n",
    "models.append(BaggingRegressor())\n",
    "models.append(GradientBoostingRegressor())\n",
    "models.append(XGBRegressor())\n",
    "models.append(KNeighborsRegressor())"
   ]
  },
  {
   "cell_type": "markdown",
   "id": "3d04833c",
   "metadata": {},
   "source": [
    "## Classes Needed :"
   ]
  },
  {
   "cell_type": "code",
   "execution_count": 7,
   "id": "aed99338",
   "metadata": {},
   "outputs": [],
   "source": [
    "from Pipelines import FullPipeline1, FullPipeline2\n",
    "from MachineLearning import ModelRegressionEvaluate"
   ]
  },
  {
   "cell_type": "markdown",
   "id": "4e3efb84",
   "metadata": {},
   "source": [
    "## Plot Pipelines :"
   ]
  },
  {
   "cell_type": "code",
   "execution_count": 8,
   "id": "f3ca20c0",
   "metadata": {},
   "outputs": [],
   "source": [
    "from sklearn import set_config\n",
    "set_config(display='diagram')"
   ]
  },
  {
   "cell_type": "markdown",
   "id": "a925e9e0",
   "metadata": {},
   "source": [
    "<br><br><br><br><br><br><br><br><br><br>"
   ]
  },
  {
   "cell_type": "markdown",
   "id": "9a7eb2db",
   "metadata": {},
   "source": [
    "<h1><Font color='#ba2ec7' size=30>Pipeline 1 :</Font></h1>"
   ]
  },
  {
   "cell_type": "code",
   "execution_count": 9,
   "id": "a11ae913",
   "metadata": {},
   "outputs": [
    {
     "data": {
      "text/html": [
       "<style>#sk-container-id-1 {color: black;background-color: white;}#sk-container-id-1 pre{padding: 0;}#sk-container-id-1 div.sk-toggleable {background-color: white;}#sk-container-id-1 label.sk-toggleable__label {cursor: pointer;display: block;width: 100%;margin-bottom: 0;padding: 0.3em;box-sizing: border-box;text-align: center;}#sk-container-id-1 label.sk-toggleable__label-arrow:before {content: \"▸\";float: left;margin-right: 0.25em;color: #696969;}#sk-container-id-1 label.sk-toggleable__label-arrow:hover:before {color: black;}#sk-container-id-1 div.sk-estimator:hover label.sk-toggleable__label-arrow:before {color: black;}#sk-container-id-1 div.sk-toggleable__content {max-height: 0;max-width: 0;overflow: hidden;text-align: left;background-color: #f0f8ff;}#sk-container-id-1 div.sk-toggleable__content pre {margin: 0.2em;color: black;border-radius: 0.25em;background-color: #f0f8ff;}#sk-container-id-1 input.sk-toggleable__control:checked~div.sk-toggleable__content {max-height: 200px;max-width: 100%;overflow: auto;}#sk-container-id-1 input.sk-toggleable__control:checked~label.sk-toggleable__label-arrow:before {content: \"▾\";}#sk-container-id-1 div.sk-estimator input.sk-toggleable__control:checked~label.sk-toggleable__label {background-color: #d4ebff;}#sk-container-id-1 div.sk-label input.sk-toggleable__control:checked~label.sk-toggleable__label {background-color: #d4ebff;}#sk-container-id-1 input.sk-hidden--visually {border: 0;clip: rect(1px 1px 1px 1px);clip: rect(1px, 1px, 1px, 1px);height: 1px;margin: -1px;overflow: hidden;padding: 0;position: absolute;width: 1px;}#sk-container-id-1 div.sk-estimator {font-family: monospace;background-color: #f0f8ff;border: 1px dotted black;border-radius: 0.25em;box-sizing: border-box;margin-bottom: 0.5em;}#sk-container-id-1 div.sk-estimator:hover {background-color: #d4ebff;}#sk-container-id-1 div.sk-parallel-item::after {content: \"\";width: 100%;border-bottom: 1px solid gray;flex-grow: 1;}#sk-container-id-1 div.sk-label:hover label.sk-toggleable__label {background-color: #d4ebff;}#sk-container-id-1 div.sk-serial::before {content: \"\";position: absolute;border-left: 1px solid gray;box-sizing: border-box;top: 0;bottom: 0;left: 50%;z-index: 0;}#sk-container-id-1 div.sk-serial {display: flex;flex-direction: column;align-items: center;background-color: white;padding-right: 0.2em;padding-left: 0.2em;position: relative;}#sk-container-id-1 div.sk-item {position: relative;z-index: 1;}#sk-container-id-1 div.sk-parallel {display: flex;align-items: stretch;justify-content: center;background-color: white;position: relative;}#sk-container-id-1 div.sk-item::before, #sk-container-id-1 div.sk-parallel-item::before {content: \"\";position: absolute;border-left: 1px solid gray;box-sizing: border-box;top: 0;bottom: 0;left: 50%;z-index: -1;}#sk-container-id-1 div.sk-parallel-item {display: flex;flex-direction: column;z-index: 1;position: relative;background-color: white;}#sk-container-id-1 div.sk-parallel-item:first-child::after {align-self: flex-end;width: 50%;}#sk-container-id-1 div.sk-parallel-item:last-child::after {align-self: flex-start;width: 50%;}#sk-container-id-1 div.sk-parallel-item:only-child::after {width: 0;}#sk-container-id-1 div.sk-dashed-wrapped {border: 1px dashed gray;margin: 0 0.4em 0.5em 0.4em;box-sizing: border-box;padding-bottom: 0.4em;background-color: white;}#sk-container-id-1 div.sk-label label {font-family: monospace;font-weight: bold;display: inline-block;line-height: 1.2em;}#sk-container-id-1 div.sk-label-container {text-align: center;}#sk-container-id-1 div.sk-container {/* jupyter's `normalize.less` sets `[hidden] { display: none; }` but bootstrap.min.css set `[hidden] { display: none !important; }` so we also need the `!important` here to be able to override the default hidden behavior on the sphinx rendered scikit-learn.org. See: https://github.com/scikit-learn/scikit-learn/issues/21755 */display: inline-block !important;position: relative;}#sk-container-id-1 div.sk-text-repr-fallback {display: none;}</style><div id=\"sk-container-id-1\" class=\"sk-top-container\"><div class=\"sk-text-repr-fallback\"><pre>Pipeline(steps=[(&#x27;selector&#x27;,\n",
       "                 ColumnSelector(columns=[&#x27;Date/Time&#x27;, &#x27;Wind Speed (m/s)&#x27;,\n",
       "                                         &#x27;Theoretical_Power_Curve (KWh)&#x27;,\n",
       "                                         &#x27;Wind Direction (°)&#x27;])),\n",
       "                (&#x27;imputer&#x27;,\n",
       "                 DataFrameImputer(freq_cols=[&#x27;Date/Time&#x27;],\n",
       "                                  median_cols=[&#x27;Wind Speed (m/s)&#x27;,\n",
       "                                               &#x27;Theoretical_Power_Curve (KWh)&#x27;,\n",
       "                                               &#x27;Wind Direction (°)&#x27;])),\n",
       "                (&#x27;DateTime&#x27;,\n",
       "                 DateTimeTransformer(column=&#x27;Date/Time&#x27;,\n",
       "                                     date_format=&#x27;%d %m %Y %H:%M&#x27;,\n",
       "                                     drop_original=True)),\n",
       "                (&#x27;drop_cols&#x27;, DropColumnsTransformer(columns=[&#x27;year&#x27;])),\n",
       "                (&#x27;winsorization&#x27;,\n",
       "                 WinsorizationImpute(columns=[&#x27;Wind Speed (m/s)&#x27;],\n",
       "                                     outlier_handling=&#x27;random_in_distribution&#x27;,\n",
       "                                     p=0)),\n",
       "                (&#x27;scale&#x27;,\n",
       "                 StandardScaleTransform(columns=[&#x27;Wind Speed (m/s)&#x27;,\n",
       "                                                 &#x27;Theoretical_Power_Curve &#x27;\n",
       "                                                 &#x27;(KWh)&#x27;,\n",
       "                                                 &#x27;Wind Direction (°)&#x27;, &#x27;day&#x27;,\n",
       "                                                 &#x27;month&#x27;]))])</pre><b>In a Jupyter environment, please rerun this cell to show the HTML representation or trust the notebook. <br />On GitHub, the HTML representation is unable to render, please try loading this page with nbviewer.org.</b></div><div class=\"sk-container\" hidden><div class=\"sk-item sk-dashed-wrapped\"><div class=\"sk-label-container\"><div class=\"sk-label sk-toggleable\"><input class=\"sk-toggleable__control sk-hidden--visually\" id=\"sk-estimator-id-1\" type=\"checkbox\" ><label for=\"sk-estimator-id-1\" class=\"sk-toggleable__label sk-toggleable__label-arrow\">Pipeline</label><div class=\"sk-toggleable__content\"><pre>Pipeline(steps=[(&#x27;selector&#x27;,\n",
       "                 ColumnSelector(columns=[&#x27;Date/Time&#x27;, &#x27;Wind Speed (m/s)&#x27;,\n",
       "                                         &#x27;Theoretical_Power_Curve (KWh)&#x27;,\n",
       "                                         &#x27;Wind Direction (°)&#x27;])),\n",
       "                (&#x27;imputer&#x27;,\n",
       "                 DataFrameImputer(freq_cols=[&#x27;Date/Time&#x27;],\n",
       "                                  median_cols=[&#x27;Wind Speed (m/s)&#x27;,\n",
       "                                               &#x27;Theoretical_Power_Curve (KWh)&#x27;,\n",
       "                                               &#x27;Wind Direction (°)&#x27;])),\n",
       "                (&#x27;DateTime&#x27;,\n",
       "                 DateTimeTransformer(column=&#x27;Date/Time&#x27;,\n",
       "                                     date_format=&#x27;%d %m %Y %H:%M&#x27;,\n",
       "                                     drop_original=True)),\n",
       "                (&#x27;drop_cols&#x27;, DropColumnsTransformer(columns=[&#x27;year&#x27;])),\n",
       "                (&#x27;winsorization&#x27;,\n",
       "                 WinsorizationImpute(columns=[&#x27;Wind Speed (m/s)&#x27;],\n",
       "                                     outlier_handling=&#x27;random_in_distribution&#x27;,\n",
       "                                     p=0)),\n",
       "                (&#x27;scale&#x27;,\n",
       "                 StandardScaleTransform(columns=[&#x27;Wind Speed (m/s)&#x27;,\n",
       "                                                 &#x27;Theoretical_Power_Curve &#x27;\n",
       "                                                 &#x27;(KWh)&#x27;,\n",
       "                                                 &#x27;Wind Direction (°)&#x27;, &#x27;day&#x27;,\n",
       "                                                 &#x27;month&#x27;]))])</pre></div></div></div><div class=\"sk-serial\"><div class=\"sk-item\"><div class=\"sk-estimator sk-toggleable\"><input class=\"sk-toggleable__control sk-hidden--visually\" id=\"sk-estimator-id-2\" type=\"checkbox\" ><label for=\"sk-estimator-id-2\" class=\"sk-toggleable__label sk-toggleable__label-arrow\">ColumnSelector</label><div class=\"sk-toggleable__content\"><pre>ColumnSelector(columns=[&#x27;Date/Time&#x27;, &#x27;Wind Speed (m/s)&#x27;,\n",
       "                        &#x27;Theoretical_Power_Curve (KWh)&#x27;, &#x27;Wind Direction (°)&#x27;])</pre></div></div></div><div class=\"sk-item\"><div class=\"sk-estimator sk-toggleable\"><input class=\"sk-toggleable__control sk-hidden--visually\" id=\"sk-estimator-id-3\" type=\"checkbox\" ><label for=\"sk-estimator-id-3\" class=\"sk-toggleable__label sk-toggleable__label-arrow\">DataFrameImputer</label><div class=\"sk-toggleable__content\"><pre>DataFrameImputer(freq_cols=[&#x27;Date/Time&#x27;],\n",
       "                 median_cols=[&#x27;Wind Speed (m/s)&#x27;,\n",
       "                              &#x27;Theoretical_Power_Curve (KWh)&#x27;,\n",
       "                              &#x27;Wind Direction (°)&#x27;])</pre></div></div></div><div class=\"sk-item\"><div class=\"sk-estimator sk-toggleable\"><input class=\"sk-toggleable__control sk-hidden--visually\" id=\"sk-estimator-id-4\" type=\"checkbox\" ><label for=\"sk-estimator-id-4\" class=\"sk-toggleable__label sk-toggleable__label-arrow\">DateTimeTransformer</label><div class=\"sk-toggleable__content\"><pre>DateTimeTransformer(column=&#x27;Date/Time&#x27;, date_format=&#x27;%d %m %Y %H:%M&#x27;,\n",
       "                    drop_original=True)</pre></div></div></div><div class=\"sk-item\"><div class=\"sk-estimator sk-toggleable\"><input class=\"sk-toggleable__control sk-hidden--visually\" id=\"sk-estimator-id-5\" type=\"checkbox\" ><label for=\"sk-estimator-id-5\" class=\"sk-toggleable__label sk-toggleable__label-arrow\">DropColumnsTransformer</label><div class=\"sk-toggleable__content\"><pre>DropColumnsTransformer(columns=[&#x27;year&#x27;])</pre></div></div></div><div class=\"sk-item\"><div class=\"sk-estimator sk-toggleable\"><input class=\"sk-toggleable__control sk-hidden--visually\" id=\"sk-estimator-id-6\" type=\"checkbox\" ><label for=\"sk-estimator-id-6\" class=\"sk-toggleable__label sk-toggleable__label-arrow\">WinsorizationImpute</label><div class=\"sk-toggleable__content\"><pre>WinsorizationImpute(columns=[&#x27;Wind Speed (m/s)&#x27;],\n",
       "                    outlier_handling=&#x27;random_in_distribution&#x27;, p=0)</pre></div></div></div><div class=\"sk-item\"><div class=\"sk-estimator sk-toggleable\"><input class=\"sk-toggleable__control sk-hidden--visually\" id=\"sk-estimator-id-7\" type=\"checkbox\" ><label for=\"sk-estimator-id-7\" class=\"sk-toggleable__label sk-toggleable__label-arrow\">StandardScaleTransform</label><div class=\"sk-toggleable__content\"><pre>StandardScaleTransform(columns=[&#x27;Wind Speed (m/s)&#x27;,\n",
       "                                &#x27;Theoretical_Power_Curve (KWh)&#x27;,\n",
       "                                &#x27;Wind Direction (°)&#x27;, &#x27;day&#x27;, &#x27;month&#x27;])</pre></div></div></div></div></div></div></div>"
      ],
      "text/plain": [
       "Pipeline(steps=[('selector',\n",
       "                 ColumnSelector(columns=['Date/Time', 'Wind Speed (m/s)',\n",
       "                                         'Theoretical_Power_Curve (KWh)',\n",
       "                                         'Wind Direction (°)'])),\n",
       "                ('imputer',\n",
       "                 DataFrameImputer(freq_cols=['Date/Time'],\n",
       "                                  median_cols=['Wind Speed (m/s)',\n",
       "                                               'Theoretical_Power_Curve (KWh)',\n",
       "                                               'Wind Direction (°)'])),\n",
       "                ('DateTime',\n",
       "                 DateTimeTransformer(column='Date/Time',\n",
       "                                     date_format='%d %m %Y %H:%M',\n",
       "                                     drop_original=True)),\n",
       "                ('drop_cols', DropColumnsTransformer(columns=['year'])),\n",
       "                ('winsorization',\n",
       "                 WinsorizationImpute(columns=['Wind Speed (m/s)'],\n",
       "                                     outlier_handling='random_in_distribution',\n",
       "                                     p=0)),\n",
       "                ('scale',\n",
       "                 StandardScaleTransform(columns=['Wind Speed (m/s)',\n",
       "                                                 'Theoretical_Power_Curve '\n",
       "                                                 '(KWh)',\n",
       "                                                 'Wind Direction (°)', 'day',\n",
       "                                                 'month']))])"
      ]
     },
     "execution_count": 9,
     "metadata": {},
     "output_type": "execute_result"
    }
   ],
   "source": [
    "full_pipeline1 = FullPipeline1()\n",
    "X_train1, y_train1 = full_pipeline1.fit_transform(X_train, y_train)\n",
    "\n",
    "full_pipeline1.x_pipeline"
   ]
  },
  {
   "cell_type": "code",
   "execution_count": 10,
   "id": "eee12d54",
   "metadata": {},
   "outputs": [
    {
     "data": {
      "text/html": [
       "<div>\n",
       "<style scoped>\n",
       "    .dataframe tbody tr th:only-of-type {\n",
       "        vertical-align: middle;\n",
       "    }\n",
       "\n",
       "    .dataframe tbody tr th {\n",
       "        vertical-align: top;\n",
       "    }\n",
       "\n",
       "    .dataframe thead th {\n",
       "        text-align: right;\n",
       "    }\n",
       "</style>\n",
       "<table border=\"1\" class=\"dataframe\">\n",
       "  <thead>\n",
       "    <tr style=\"text-align: right;\">\n",
       "      <th></th>\n",
       "      <th>model</th>\n",
       "      <th>mean_mae</th>\n",
       "      <th>mean_rmse</th>\n",
       "      <th>mean_r2</th>\n",
       "      <th>time</th>\n",
       "    </tr>\n",
       "  </thead>\n",
       "  <tbody>\n",
       "    <tr>\n",
       "      <th>0</th>\n",
       "      <td>RandomForestRegressor</td>\n",
       "      <td>76.804583</td>\n",
       "      <td>174.540591</td>\n",
       "      <td>0.980952</td>\n",
       "      <td>79.770456</td>\n",
       "    </tr>\n",
       "    <tr>\n",
       "      <th>1</th>\n",
       "      <td>LGBMRegressor</td>\n",
       "      <td>71.622734</td>\n",
       "      <td>150.584587</td>\n",
       "      <td>0.985823</td>\n",
       "      <td>0.599018</td>\n",
       "    </tr>\n",
       "    <tr>\n",
       "      <th>2</th>\n",
       "      <td>HistGradientBoostingRegressor</td>\n",
       "      <td>72.270176</td>\n",
       "      <td>152.937495</td>\n",
       "      <td>0.985377</td>\n",
       "      <td>2.590104</td>\n",
       "    </tr>\n",
       "    <tr>\n",
       "      <th>3</th>\n",
       "      <td>ExtraTreesRegressor</td>\n",
       "      <td>79.153072</td>\n",
       "      <td>177.945368</td>\n",
       "      <td>0.980201</td>\n",
       "      <td>26.902643</td>\n",
       "    </tr>\n",
       "    <tr>\n",
       "      <th>4</th>\n",
       "      <td>BaggingRegressor</td>\n",
       "      <td>81.350251</td>\n",
       "      <td>181.368555</td>\n",
       "      <td>0.979430</td>\n",
       "      <td>8.238391</td>\n",
       "    </tr>\n",
       "    <tr>\n",
       "      <th>5</th>\n",
       "      <td>GradientBoostingRegressor</td>\n",
       "      <td>99.712114</td>\n",
       "      <td>198.463567</td>\n",
       "      <td>0.975368</td>\n",
       "      <td>22.396355</td>\n",
       "    </tr>\n",
       "    <tr>\n",
       "      <th>6</th>\n",
       "      <td>XGBRegressor</td>\n",
       "      <td>71.043604</td>\n",
       "      <td>150.601486</td>\n",
       "      <td>0.985822</td>\n",
       "      <td>5.742688</td>\n",
       "    </tr>\n",
       "    <tr>\n",
       "      <th>7</th>\n",
       "      <td>KNeighborsRegressor</td>\n",
       "      <td>70.767954</td>\n",
       "      <td>161.378888</td>\n",
       "      <td>0.983713</td>\n",
       "      <td>0.513822</td>\n",
       "    </tr>\n",
       "  </tbody>\n",
       "</table>\n",
       "</div>"
      ],
      "text/plain": [
       "                           model   mean_mae   mean_rmse   mean_r2       time\n",
       "0          RandomForestRegressor  76.804583  174.540591  0.980952  79.770456\n",
       "1                  LGBMRegressor  71.622734  150.584587  0.985823   0.599018\n",
       "2  HistGradientBoostingRegressor  72.270176  152.937495  0.985377   2.590104\n",
       "3            ExtraTreesRegressor  79.153072  177.945368  0.980201  26.902643\n",
       "4               BaggingRegressor  81.350251  181.368555  0.979430   8.238391\n",
       "5      GradientBoostingRegressor  99.712114  198.463567  0.975368  22.396355\n",
       "6                   XGBRegressor  71.043604  150.601486  0.985822   5.742688\n",
       "7            KNeighborsRegressor  70.767954  161.378888  0.983713   0.513822"
      ]
     },
     "execution_count": 10,
     "metadata": {},
     "output_type": "execute_result"
    }
   ],
   "source": [
    "models_evaluate = ModelRegressionEvaluate(models)\n",
    "models_evaluate.fit(X_train1, y_train1)\n",
    "results = models_evaluate.get_results()\n",
    "\n",
    "results"
   ]
  },
  {
   "cell_type": "markdown",
   "id": "a4698b6d",
   "metadata": {},
   "source": [
    "<h1><Font color='#ba2ec7' size=30>Pipeline 2 :</Font></h1>"
   ]
  },
  {
   "cell_type": "code",
   "execution_count": 11,
   "id": "ff458e07",
   "metadata": {},
   "outputs": [
    {
     "data": {
      "text/html": [
       "<style>#sk-container-id-2 {color: black;background-color: white;}#sk-container-id-2 pre{padding: 0;}#sk-container-id-2 div.sk-toggleable {background-color: white;}#sk-container-id-2 label.sk-toggleable__label {cursor: pointer;display: block;width: 100%;margin-bottom: 0;padding: 0.3em;box-sizing: border-box;text-align: center;}#sk-container-id-2 label.sk-toggleable__label-arrow:before {content: \"▸\";float: left;margin-right: 0.25em;color: #696969;}#sk-container-id-2 label.sk-toggleable__label-arrow:hover:before {color: black;}#sk-container-id-2 div.sk-estimator:hover label.sk-toggleable__label-arrow:before {color: black;}#sk-container-id-2 div.sk-toggleable__content {max-height: 0;max-width: 0;overflow: hidden;text-align: left;background-color: #f0f8ff;}#sk-container-id-2 div.sk-toggleable__content pre {margin: 0.2em;color: black;border-radius: 0.25em;background-color: #f0f8ff;}#sk-container-id-2 input.sk-toggleable__control:checked~div.sk-toggleable__content {max-height: 200px;max-width: 100%;overflow: auto;}#sk-container-id-2 input.sk-toggleable__control:checked~label.sk-toggleable__label-arrow:before {content: \"▾\";}#sk-container-id-2 div.sk-estimator input.sk-toggleable__control:checked~label.sk-toggleable__label {background-color: #d4ebff;}#sk-container-id-2 div.sk-label input.sk-toggleable__control:checked~label.sk-toggleable__label {background-color: #d4ebff;}#sk-container-id-2 input.sk-hidden--visually {border: 0;clip: rect(1px 1px 1px 1px);clip: rect(1px, 1px, 1px, 1px);height: 1px;margin: -1px;overflow: hidden;padding: 0;position: absolute;width: 1px;}#sk-container-id-2 div.sk-estimator {font-family: monospace;background-color: #f0f8ff;border: 1px dotted black;border-radius: 0.25em;box-sizing: border-box;margin-bottom: 0.5em;}#sk-container-id-2 div.sk-estimator:hover {background-color: #d4ebff;}#sk-container-id-2 div.sk-parallel-item::after {content: \"\";width: 100%;border-bottom: 1px solid gray;flex-grow: 1;}#sk-container-id-2 div.sk-label:hover label.sk-toggleable__label {background-color: #d4ebff;}#sk-container-id-2 div.sk-serial::before {content: \"\";position: absolute;border-left: 1px solid gray;box-sizing: border-box;top: 0;bottom: 0;left: 50%;z-index: 0;}#sk-container-id-2 div.sk-serial {display: flex;flex-direction: column;align-items: center;background-color: white;padding-right: 0.2em;padding-left: 0.2em;position: relative;}#sk-container-id-2 div.sk-item {position: relative;z-index: 1;}#sk-container-id-2 div.sk-parallel {display: flex;align-items: stretch;justify-content: center;background-color: white;position: relative;}#sk-container-id-2 div.sk-item::before, #sk-container-id-2 div.sk-parallel-item::before {content: \"\";position: absolute;border-left: 1px solid gray;box-sizing: border-box;top: 0;bottom: 0;left: 50%;z-index: -1;}#sk-container-id-2 div.sk-parallel-item {display: flex;flex-direction: column;z-index: 1;position: relative;background-color: white;}#sk-container-id-2 div.sk-parallel-item:first-child::after {align-self: flex-end;width: 50%;}#sk-container-id-2 div.sk-parallel-item:last-child::after {align-self: flex-start;width: 50%;}#sk-container-id-2 div.sk-parallel-item:only-child::after {width: 0;}#sk-container-id-2 div.sk-dashed-wrapped {border: 1px dashed gray;margin: 0 0.4em 0.5em 0.4em;box-sizing: border-box;padding-bottom: 0.4em;background-color: white;}#sk-container-id-2 div.sk-label label {font-family: monospace;font-weight: bold;display: inline-block;line-height: 1.2em;}#sk-container-id-2 div.sk-label-container {text-align: center;}#sk-container-id-2 div.sk-container {/* jupyter's `normalize.less` sets `[hidden] { display: none; }` but bootstrap.min.css set `[hidden] { display: none !important; }` so we also need the `!important` here to be able to override the default hidden behavior on the sphinx rendered scikit-learn.org. See: https://github.com/scikit-learn/scikit-learn/issues/21755 */display: inline-block !important;position: relative;}#sk-container-id-2 div.sk-text-repr-fallback {display: none;}</style><div id=\"sk-container-id-2\" class=\"sk-top-container\"><div class=\"sk-text-repr-fallback\"><pre>Pipeline(steps=[(&#x27;selector&#x27;,\n",
       "                 ColumnSelector(columns=[&#x27;Date/Time&#x27;, &#x27;Wind Speed (m/s)&#x27;,\n",
       "                                         &#x27;Theoretical_Power_Curve (KWh)&#x27;,\n",
       "                                         &#x27;Wind Direction (°)&#x27;])),\n",
       "                (&#x27;imputer&#x27;,\n",
       "                 DataFrameImputer(freq_cols=[&#x27;Date/Time&#x27;],\n",
       "                                  median_cols=[&#x27;Wind Speed (m/s)&#x27;,\n",
       "                                               &#x27;Theoretical_Power_Curve (KWh)&#x27;,\n",
       "                                               &#x27;Wind Direction (°)&#x27;])),\n",
       "                (&#x27;DateTime&#x27;,\n",
       "                 DateTimeTransformer(column=&#x27;Date/Time&#x27;,\n",
       "                                     date_format=&#x27;%d %m %Y %H:%M&#x27;,\n",
       "                                     drop_original=True)),\n",
       "                (&#x27;drop_cols&#x27;, DropColumnsTransformer(columns=[&#x27;year&#x27;])),\n",
       "                (&#x27;scale&#x27;,\n",
       "                 StandardScaleTransform(columns=[&#x27;Wind Speed (m/s)&#x27;,\n",
       "                                                 &#x27;Theoretical_Power_Curve &#x27;\n",
       "                                                 &#x27;(KWh)&#x27;,\n",
       "                                                 &#x27;Wind Direction (°)&#x27;, &#x27;day&#x27;,\n",
       "                                                 &#x27;month&#x27;]))])</pre><b>In a Jupyter environment, please rerun this cell to show the HTML representation or trust the notebook. <br />On GitHub, the HTML representation is unable to render, please try loading this page with nbviewer.org.</b></div><div class=\"sk-container\" hidden><div class=\"sk-item sk-dashed-wrapped\"><div class=\"sk-label-container\"><div class=\"sk-label sk-toggleable\"><input class=\"sk-toggleable__control sk-hidden--visually\" id=\"sk-estimator-id-8\" type=\"checkbox\" ><label for=\"sk-estimator-id-8\" class=\"sk-toggleable__label sk-toggleable__label-arrow\">Pipeline</label><div class=\"sk-toggleable__content\"><pre>Pipeline(steps=[(&#x27;selector&#x27;,\n",
       "                 ColumnSelector(columns=[&#x27;Date/Time&#x27;, &#x27;Wind Speed (m/s)&#x27;,\n",
       "                                         &#x27;Theoretical_Power_Curve (KWh)&#x27;,\n",
       "                                         &#x27;Wind Direction (°)&#x27;])),\n",
       "                (&#x27;imputer&#x27;,\n",
       "                 DataFrameImputer(freq_cols=[&#x27;Date/Time&#x27;],\n",
       "                                  median_cols=[&#x27;Wind Speed (m/s)&#x27;,\n",
       "                                               &#x27;Theoretical_Power_Curve (KWh)&#x27;,\n",
       "                                               &#x27;Wind Direction (°)&#x27;])),\n",
       "                (&#x27;DateTime&#x27;,\n",
       "                 DateTimeTransformer(column=&#x27;Date/Time&#x27;,\n",
       "                                     date_format=&#x27;%d %m %Y %H:%M&#x27;,\n",
       "                                     drop_original=True)),\n",
       "                (&#x27;drop_cols&#x27;, DropColumnsTransformer(columns=[&#x27;year&#x27;])),\n",
       "                (&#x27;scale&#x27;,\n",
       "                 StandardScaleTransform(columns=[&#x27;Wind Speed (m/s)&#x27;,\n",
       "                                                 &#x27;Theoretical_Power_Curve &#x27;\n",
       "                                                 &#x27;(KWh)&#x27;,\n",
       "                                                 &#x27;Wind Direction (°)&#x27;, &#x27;day&#x27;,\n",
       "                                                 &#x27;month&#x27;]))])</pre></div></div></div><div class=\"sk-serial\"><div class=\"sk-item\"><div class=\"sk-estimator sk-toggleable\"><input class=\"sk-toggleable__control sk-hidden--visually\" id=\"sk-estimator-id-9\" type=\"checkbox\" ><label for=\"sk-estimator-id-9\" class=\"sk-toggleable__label sk-toggleable__label-arrow\">ColumnSelector</label><div class=\"sk-toggleable__content\"><pre>ColumnSelector(columns=[&#x27;Date/Time&#x27;, &#x27;Wind Speed (m/s)&#x27;,\n",
       "                        &#x27;Theoretical_Power_Curve (KWh)&#x27;, &#x27;Wind Direction (°)&#x27;])</pre></div></div></div><div class=\"sk-item\"><div class=\"sk-estimator sk-toggleable\"><input class=\"sk-toggleable__control sk-hidden--visually\" id=\"sk-estimator-id-10\" type=\"checkbox\" ><label for=\"sk-estimator-id-10\" class=\"sk-toggleable__label sk-toggleable__label-arrow\">DataFrameImputer</label><div class=\"sk-toggleable__content\"><pre>DataFrameImputer(freq_cols=[&#x27;Date/Time&#x27;],\n",
       "                 median_cols=[&#x27;Wind Speed (m/s)&#x27;,\n",
       "                              &#x27;Theoretical_Power_Curve (KWh)&#x27;,\n",
       "                              &#x27;Wind Direction (°)&#x27;])</pre></div></div></div><div class=\"sk-item\"><div class=\"sk-estimator sk-toggleable\"><input class=\"sk-toggleable__control sk-hidden--visually\" id=\"sk-estimator-id-11\" type=\"checkbox\" ><label for=\"sk-estimator-id-11\" class=\"sk-toggleable__label sk-toggleable__label-arrow\">DateTimeTransformer</label><div class=\"sk-toggleable__content\"><pre>DateTimeTransformer(column=&#x27;Date/Time&#x27;, date_format=&#x27;%d %m %Y %H:%M&#x27;,\n",
       "                    drop_original=True)</pre></div></div></div><div class=\"sk-item\"><div class=\"sk-estimator sk-toggleable\"><input class=\"sk-toggleable__control sk-hidden--visually\" id=\"sk-estimator-id-12\" type=\"checkbox\" ><label for=\"sk-estimator-id-12\" class=\"sk-toggleable__label sk-toggleable__label-arrow\">DropColumnsTransformer</label><div class=\"sk-toggleable__content\"><pre>DropColumnsTransformer(columns=[&#x27;year&#x27;])</pre></div></div></div><div class=\"sk-item\"><div class=\"sk-estimator sk-toggleable\"><input class=\"sk-toggleable__control sk-hidden--visually\" id=\"sk-estimator-id-13\" type=\"checkbox\" ><label for=\"sk-estimator-id-13\" class=\"sk-toggleable__label sk-toggleable__label-arrow\">StandardScaleTransform</label><div class=\"sk-toggleable__content\"><pre>StandardScaleTransform(columns=[&#x27;Wind Speed (m/s)&#x27;,\n",
       "                                &#x27;Theoretical_Power_Curve (KWh)&#x27;,\n",
       "                                &#x27;Wind Direction (°)&#x27;, &#x27;day&#x27;, &#x27;month&#x27;])</pre></div></div></div></div></div></div></div>"
      ],
      "text/plain": [
       "Pipeline(steps=[('selector',\n",
       "                 ColumnSelector(columns=['Date/Time', 'Wind Speed (m/s)',\n",
       "                                         'Theoretical_Power_Curve (KWh)',\n",
       "                                         'Wind Direction (°)'])),\n",
       "                ('imputer',\n",
       "                 DataFrameImputer(freq_cols=['Date/Time'],\n",
       "                                  median_cols=['Wind Speed (m/s)',\n",
       "                                               'Theoretical_Power_Curve (KWh)',\n",
       "                                               'Wind Direction (°)'])),\n",
       "                ('DateTime',\n",
       "                 DateTimeTransformer(column='Date/Time',\n",
       "                                     date_format='%d %m %Y %H:%M',\n",
       "                                     drop_original=True)),\n",
       "                ('drop_cols', DropColumnsTransformer(columns=['year'])),\n",
       "                ('scale',\n",
       "                 StandardScaleTransform(columns=['Wind Speed (m/s)',\n",
       "                                                 'Theoretical_Power_Curve '\n",
       "                                                 '(KWh)',\n",
       "                                                 'Wind Direction (°)', 'day',\n",
       "                                                 'month']))])"
      ]
     },
     "execution_count": 11,
     "metadata": {},
     "output_type": "execute_result"
    }
   ],
   "source": [
    "full_pipeline2 = FullPipeline2()\n",
    "X_train2, y_train2 = full_pipeline2.fit_transform(X_train, y_train)\n",
    "\n",
    "full_pipeline2.x_pipeline"
   ]
  },
  {
   "cell_type": "code",
   "execution_count": 12,
   "id": "e152c684",
   "metadata": {},
   "outputs": [
    {
     "data": {
      "text/html": [
       "<div>\n",
       "<style scoped>\n",
       "    .dataframe tbody tr th:only-of-type {\n",
       "        vertical-align: middle;\n",
       "    }\n",
       "\n",
       "    .dataframe tbody tr th {\n",
       "        vertical-align: top;\n",
       "    }\n",
       "\n",
       "    .dataframe thead th {\n",
       "        text-align: right;\n",
       "    }\n",
       "</style>\n",
       "<table border=\"1\" class=\"dataframe\">\n",
       "  <thead>\n",
       "    <tr style=\"text-align: right;\">\n",
       "      <th></th>\n",
       "      <th>model</th>\n",
       "      <th>mean_mae</th>\n",
       "      <th>mean_rmse</th>\n",
       "      <th>mean_r2</th>\n",
       "      <th>time</th>\n",
       "    </tr>\n",
       "  </thead>\n",
       "  <tbody>\n",
       "    <tr>\n",
       "      <th>0</th>\n",
       "      <td>RandomForestRegressor</td>\n",
       "      <td>76.575825</td>\n",
       "      <td>174.827589</td>\n",
       "      <td>0.980888</td>\n",
       "      <td>78.613691</td>\n",
       "    </tr>\n",
       "    <tr>\n",
       "      <th>1</th>\n",
       "      <td>LGBMRegressor</td>\n",
       "      <td>71.649434</td>\n",
       "      <td>150.748716</td>\n",
       "      <td>0.985794</td>\n",
       "      <td>0.551670</td>\n",
       "    </tr>\n",
       "    <tr>\n",
       "      <th>2</th>\n",
       "      <td>HistGradientBoostingRegressor</td>\n",
       "      <td>71.539777</td>\n",
       "      <td>151.972279</td>\n",
       "      <td>0.985564</td>\n",
       "      <td>2.261238</td>\n",
       "    </tr>\n",
       "    <tr>\n",
       "      <th>3</th>\n",
       "      <td>ExtraTreesRegressor</td>\n",
       "      <td>78.748521</td>\n",
       "      <td>178.041823</td>\n",
       "      <td>0.980178</td>\n",
       "      <td>26.440126</td>\n",
       "    </tr>\n",
       "    <tr>\n",
       "      <th>4</th>\n",
       "      <td>BaggingRegressor</td>\n",
       "      <td>80.538014</td>\n",
       "      <td>181.872297</td>\n",
       "      <td>0.979316</td>\n",
       "      <td>7.584318</td>\n",
       "    </tr>\n",
       "    <tr>\n",
       "      <th>5</th>\n",
       "      <td>GradientBoostingRegressor</td>\n",
       "      <td>99.576837</td>\n",
       "      <td>198.776855</td>\n",
       "      <td>0.975290</td>\n",
       "      <td>21.481180</td>\n",
       "    </tr>\n",
       "    <tr>\n",
       "      <th>6</th>\n",
       "      <td>XGBRegressor</td>\n",
       "      <td>70.989034</td>\n",
       "      <td>152.182884</td>\n",
       "      <td>0.985520</td>\n",
       "      <td>5.493856</td>\n",
       "    </tr>\n",
       "    <tr>\n",
       "      <th>7</th>\n",
       "      <td>KNeighborsRegressor</td>\n",
       "      <td>69.500355</td>\n",
       "      <td>158.543178</td>\n",
       "      <td>0.984283</td>\n",
       "      <td>0.457529</td>\n",
       "    </tr>\n",
       "  </tbody>\n",
       "</table>\n",
       "</div>"
      ],
      "text/plain": [
       "                           model   mean_mae   mean_rmse   mean_r2       time\n",
       "0          RandomForestRegressor  76.575825  174.827589  0.980888  78.613691\n",
       "1                  LGBMRegressor  71.649434  150.748716  0.985794   0.551670\n",
       "2  HistGradientBoostingRegressor  71.539777  151.972279  0.985564   2.261238\n",
       "3            ExtraTreesRegressor  78.748521  178.041823  0.980178  26.440126\n",
       "4               BaggingRegressor  80.538014  181.872297  0.979316   7.584318\n",
       "5      GradientBoostingRegressor  99.576837  198.776855  0.975290  21.481180\n",
       "6                   XGBRegressor  70.989034  152.182884  0.985520   5.493856\n",
       "7            KNeighborsRegressor  69.500355  158.543178  0.984283   0.457529"
      ]
     },
     "execution_count": 12,
     "metadata": {},
     "output_type": "execute_result"
    }
   ],
   "source": [
    "models_evaluate = ModelRegressionEvaluate(models)\n",
    "models_evaluate.fit(X_train2, y_train2)\n",
    "results = models_evaluate.get_results()\n",
    "\n",
    "results"
   ]
  },
  {
   "cell_type": "markdown",
   "id": "43e875b5",
   "metadata": {},
   "source": [
    "## Ok we can notice that our pipelines performance is near to each other and that is because \n",
    "### the imputing techniques are close to each other..."
   ]
  },
  {
   "cell_type": "markdown",
   "id": "e3feb8fb",
   "metadata": {},
   "source": [
    "## But finally... I will go for `Pipeline ` to be my main used pipeline in the model"
   ]
  },
  {
   "cell_type": "markdown",
   "id": "8ecb4e6e",
   "metadata": {},
   "source": [
    "## I will start building the the model based on `Pipeline 2` in the next notebook :)"
   ]
  }
 ],
 "metadata": {
  "kernelspec": {
   "display_name": "Python 3 (ipykernel)",
   "language": "python",
   "name": "python3"
  },
  "language_info": {
   "codemirror_mode": {
    "name": "ipython",
    "version": 3
   },
   "file_extension": ".py",
   "mimetype": "text/x-python",
   "name": "python",
   "nbconvert_exporter": "python",
   "pygments_lexer": "ipython3",
   "version": "3.9.12"
  }
 },
 "nbformat": 4,
 "nbformat_minor": 5
}
